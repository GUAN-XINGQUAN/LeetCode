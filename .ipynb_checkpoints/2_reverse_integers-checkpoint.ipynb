{
 "cells": [
  {
   "cell_type": "code",
   "execution_count": 19,
   "metadata": {},
   "outputs": [],
   "source": [
    "\"\"\"\n",
    "This code is for LeetCode Problem #7 Reverse Integers.\n",
    "Developed by GUAN, XINGQUAN Majoring Structural/Earthquake Engineering @ UCLA.\n",
    "\"\"\"\n",
    "\n",
    "# Method 1:\n",
    "class Solution:\n",
    "    def reverse(self, x):\n",
    "        \"\"\"\n",
    "        :type x: int\n",
    "        :rtype: int\n",
    "        \"\"\"\n",
    "        if x >= 0:\n",
    "            sign = 1\n",
    "            string_x = str(x)\n",
    "        else:\n",
    "            sign = -1\n",
    "            string_x = str(x)[1:]\n",
    "        inverse = sign * int(string_x[::-1])\n",
    "        if -(2**31) <= inverse <= 2**31 - 1:\n",
    "            return inverse\n",
    "        else:\n",
    "            return 0"
   ]
  },
  {
   "cell_type": "code",
   "execution_count": 20,
   "metadata": {},
   "outputs": [
    {
     "data": {
      "text/plain": [
       "0"
      ]
     },
     "execution_count": 20,
     "metadata": {},
     "output_type": "execute_result"
    }
   ],
   "source": [
    "# Test the function\n",
    "x = -1534236469\n",
    "\n",
    "s = Solution()\n",
    "s.reverse(x)"
   ]
  },
  {
   "cell_type": "code",
   "execution_count": null,
   "metadata": {},
   "outputs": [],
   "source": []
  }
 ],
 "metadata": {
  "kernelspec": {
   "display_name": "Python 3",
   "language": "python",
   "name": "python3"
  },
  "language_info": {
   "codemirror_mode": {
    "name": "ipython",
    "version": 3
   },
   "file_extension": ".py",
   "mimetype": "text/x-python",
   "name": "python",
   "nbconvert_exporter": "python",
   "pygments_lexer": "ipython3",
   "version": "3.6.4"
  }
 },
 "nbformat": 4,
 "nbformat_minor": 2
}
