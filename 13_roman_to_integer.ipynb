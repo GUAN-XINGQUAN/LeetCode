{
 "cells": [
  {
   "cell_type": "code",
   "execution_count": 32,
   "metadata": {},
   "outputs": [],
   "source": [
    "\"\"\"\n",
    "This code is for LeetCode Problem #13 Roman to Integer.\n",
    "Developed by GUAN, XINGQUAN Majoring Structural/Earthquake Engineering @ UCLA.\n",
    "\"\"\"\n",
    "\n",
    "# Method 1: \n",
    "class Solution:\n",
    "    def romanToInt(self, s):\n",
    "        \"\"\"\n",
    "        :type s: str\n",
    "        :rtype: int\n",
    "        \"\"\"\n",
    "        roman_dictionary = {'I': 1, 'V': 5, 'X': 10, 'L':50, 'C': 100, 'D': 500, 'M': 1000}\n",
    "        total = 0\n",
    "        for indx in range(len(s)-1):\n",
    "            if roman_dictionary[s[indx]] >= roman_dictionary[s[indx+1]]:\n",
    "                total = total + roman_dictionary[s[indx]]\n",
    "            else:\n",
    "                total = total - roman_dictionary[s[indx]]\n",
    "        total = total + roman_dictionary[s[-1]]\n",
    "        return total    "
   ]
  },
  {
   "cell_type": "code",
   "execution_count": 33,
   "metadata": {},
   "outputs": [
    {
     "name": "stdout",
     "output_type": "stream",
     "text": [
      "1994\n"
     ]
    }
   ],
   "source": [
    "# Test the function\n",
    "s = 'MCMXCIV'\n",
    "\n",
    "sol = Solution()\n",
    "answer = sol.romanToInt(s)\n",
    "\n",
    "print(answer)"
   ]
  },
  {
   "cell_type": "code",
   "execution_count": null,
   "metadata": {},
   "outputs": [],
   "source": []
  }
 ],
 "metadata": {
  "kernelspec": {
   "display_name": "Python 3",
   "language": "python",
   "name": "python3"
  },
  "language_info": {
   "codemirror_mode": {
    "name": "ipython",
    "version": 3
   },
   "file_extension": ".py",
   "mimetype": "text/x-python",
   "name": "python",
   "nbconvert_exporter": "python",
   "pygments_lexer": "ipython3",
   "version": "3.6.4"
  }
 },
 "nbformat": 4,
 "nbformat_minor": 2
}
